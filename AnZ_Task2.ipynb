{
 "cells": [
  {
   "cell_type": "markdown",
   "metadata": {},
   "source": [
    "# Imports and loading dataset "
   ]
  },
  {
   "cell_type": "code",
   "execution_count": 2,
   "metadata": {},
   "outputs": [],
   "source": [
    "import numpy as np\n",
    "import pandas as pd\n",
    "from sklearn.linear_model import LinearRegression\n",
    "from sklearn.tree import DecisionTreeClassifier, DecisionTreeRegressor"
   ]
  },
  {
   "cell_type": "code",
   "execution_count": 3,
   "metadata": {},
   "outputs": [
    {
     "data": {
      "text/html": [
       "<div>\n",
       "<style scoped>\n",
       "    .dataframe tbody tr th:only-of-type {\n",
       "        vertical-align: middle;\n",
       "    }\n",
       "\n",
       "    .dataframe tbody tr th {\n",
       "        vertical-align: top;\n",
       "    }\n",
       "\n",
       "    .dataframe thead th {\n",
       "        text-align: right;\n",
       "    }\n",
       "</style>\n",
       "<table border=\"1\" class=\"dataframe\">\n",
       "  <thead>\n",
       "    <tr style=\"text-align: right;\">\n",
       "      <th></th>\n",
       "      <th>status</th>\n",
       "      <th>card_present_flag</th>\n",
       "      <th>bpay_biller_code</th>\n",
       "      <th>account</th>\n",
       "      <th>currency</th>\n",
       "      <th>long_lat</th>\n",
       "      <th>txn_description</th>\n",
       "      <th>merchant_id</th>\n",
       "      <th>merchant_code</th>\n",
       "      <th>first_name</th>\n",
       "      <th>...</th>\n",
       "      <th>age</th>\n",
       "      <th>merchant_suburb</th>\n",
       "      <th>merchant_state</th>\n",
       "      <th>extraction</th>\n",
       "      <th>amount</th>\n",
       "      <th>transaction_id</th>\n",
       "      <th>country</th>\n",
       "      <th>customer_id</th>\n",
       "      <th>merchant_long_lat</th>\n",
       "      <th>movement</th>\n",
       "    </tr>\n",
       "  </thead>\n",
       "  <tbody>\n",
       "    <tr>\n",
       "      <th>0</th>\n",
       "      <td>authorized</td>\n",
       "      <td>1.0</td>\n",
       "      <td>NaN</td>\n",
       "      <td>ACC-1598451071</td>\n",
       "      <td>AUD</td>\n",
       "      <td>153.41 -27.95</td>\n",
       "      <td>POS</td>\n",
       "      <td>81c48296-73be-44a7-befa-d053f48ce7cd</td>\n",
       "      <td>NaN</td>\n",
       "      <td>Diana</td>\n",
       "      <td>...</td>\n",
       "      <td>26</td>\n",
       "      <td>Ashmore</td>\n",
       "      <td>QLD</td>\n",
       "      <td>2018-08-01T01:01:15.000+0000</td>\n",
       "      <td>16.25</td>\n",
       "      <td>a623070bfead4541a6b0fff8a09e706c</td>\n",
       "      <td>Australia</td>\n",
       "      <td>CUS-2487424745</td>\n",
       "      <td>153.38 -27.99</td>\n",
       "      <td>debit</td>\n",
       "    </tr>\n",
       "    <tr>\n",
       "      <th>1</th>\n",
       "      <td>authorized</td>\n",
       "      <td>0.0</td>\n",
       "      <td>NaN</td>\n",
       "      <td>ACC-1598451071</td>\n",
       "      <td>AUD</td>\n",
       "      <td>153.41 -27.95</td>\n",
       "      <td>SALES-POS</td>\n",
       "      <td>830a451c-316e-4a6a-bf25-e37caedca49e</td>\n",
       "      <td>NaN</td>\n",
       "      <td>Diana</td>\n",
       "      <td>...</td>\n",
       "      <td>26</td>\n",
       "      <td>Sydney</td>\n",
       "      <td>NSW</td>\n",
       "      <td>2018-08-01T01:13:45.000+0000</td>\n",
       "      <td>14.19</td>\n",
       "      <td>13270a2a902145da9db4c951e04b51b9</td>\n",
       "      <td>Australia</td>\n",
       "      <td>CUS-2487424745</td>\n",
       "      <td>151.21 -33.87</td>\n",
       "      <td>debit</td>\n",
       "    </tr>\n",
       "    <tr>\n",
       "      <th>2</th>\n",
       "      <td>authorized</td>\n",
       "      <td>1.0</td>\n",
       "      <td>NaN</td>\n",
       "      <td>ACC-1222300524</td>\n",
       "      <td>AUD</td>\n",
       "      <td>151.23 -33.94</td>\n",
       "      <td>POS</td>\n",
       "      <td>835c231d-8cdf-4e96-859d-e9d571760cf0</td>\n",
       "      <td>NaN</td>\n",
       "      <td>Michael</td>\n",
       "      <td>...</td>\n",
       "      <td>38</td>\n",
       "      <td>Sydney</td>\n",
       "      <td>NSW</td>\n",
       "      <td>2018-08-01T01:26:15.000+0000</td>\n",
       "      <td>6.42</td>\n",
       "      <td>feb79e7ecd7048a5a36ec889d1a94270</td>\n",
       "      <td>Australia</td>\n",
       "      <td>CUS-2142601169</td>\n",
       "      <td>151.21 -33.87</td>\n",
       "      <td>debit</td>\n",
       "    </tr>\n",
       "    <tr>\n",
       "      <th>3</th>\n",
       "      <td>authorized</td>\n",
       "      <td>1.0</td>\n",
       "      <td>NaN</td>\n",
       "      <td>ACC-1037050564</td>\n",
       "      <td>AUD</td>\n",
       "      <td>153.10 -27.66</td>\n",
       "      <td>SALES-POS</td>\n",
       "      <td>48514682-c78a-4a88-b0da-2d6302e64673</td>\n",
       "      <td>NaN</td>\n",
       "      <td>Rhonda</td>\n",
       "      <td>...</td>\n",
       "      <td>40</td>\n",
       "      <td>Buderim</td>\n",
       "      <td>QLD</td>\n",
       "      <td>2018-08-01T01:38:45.000+0000</td>\n",
       "      <td>40.90</td>\n",
       "      <td>2698170da3704fd981b15e64a006079e</td>\n",
       "      <td>Australia</td>\n",
       "      <td>CUS-1614226872</td>\n",
       "      <td>153.05 -26.68</td>\n",
       "      <td>debit</td>\n",
       "    </tr>\n",
       "    <tr>\n",
       "      <th>4</th>\n",
       "      <td>authorized</td>\n",
       "      <td>1.0</td>\n",
       "      <td>NaN</td>\n",
       "      <td>ACC-1598451071</td>\n",
       "      <td>AUD</td>\n",
       "      <td>153.41 -27.95</td>\n",
       "      <td>SALES-POS</td>\n",
       "      <td>b4e02c10-0852-4273-b8fd-7b3395e32eb0</td>\n",
       "      <td>NaN</td>\n",
       "      <td>Diana</td>\n",
       "      <td>...</td>\n",
       "      <td>26</td>\n",
       "      <td>Mermaid Beach</td>\n",
       "      <td>QLD</td>\n",
       "      <td>2018-08-01T01:51:15.000+0000</td>\n",
       "      <td>3.25</td>\n",
       "      <td>329adf79878c4cf0aeb4188b4691c266</td>\n",
       "      <td>Australia</td>\n",
       "      <td>CUS-2487424745</td>\n",
       "      <td>153.44 -28.06</td>\n",
       "      <td>debit</td>\n",
       "    </tr>\n",
       "  </tbody>\n",
       "</table>\n",
       "<p>5 rows × 23 columns</p>\n",
       "</div>"
      ],
      "text/plain": [
       "       status  card_present_flag bpay_biller_code         account currency  \\\n",
       "0  authorized                1.0              NaN  ACC-1598451071      AUD   \n",
       "1  authorized                0.0              NaN  ACC-1598451071      AUD   \n",
       "2  authorized                1.0              NaN  ACC-1222300524      AUD   \n",
       "3  authorized                1.0              NaN  ACC-1037050564      AUD   \n",
       "4  authorized                1.0              NaN  ACC-1598451071      AUD   \n",
       "\n",
       "        long_lat txn_description                           merchant_id  \\\n",
       "0  153.41 -27.95             POS  81c48296-73be-44a7-befa-d053f48ce7cd   \n",
       "1  153.41 -27.95       SALES-POS  830a451c-316e-4a6a-bf25-e37caedca49e   \n",
       "2  151.23 -33.94             POS  835c231d-8cdf-4e96-859d-e9d571760cf0   \n",
       "3  153.10 -27.66       SALES-POS  48514682-c78a-4a88-b0da-2d6302e64673   \n",
       "4  153.41 -27.95       SALES-POS  b4e02c10-0852-4273-b8fd-7b3395e32eb0   \n",
       "\n",
       "   merchant_code first_name  ...  age merchant_suburb merchant_state  \\\n",
       "0            NaN      Diana  ...   26         Ashmore            QLD   \n",
       "1            NaN      Diana  ...   26          Sydney            NSW   \n",
       "2            NaN    Michael  ...   38          Sydney            NSW   \n",
       "3            NaN     Rhonda  ...   40         Buderim            QLD   \n",
       "4            NaN      Diana  ...   26   Mermaid Beach            QLD   \n",
       "\n",
       "                     extraction amount                    transaction_id  \\\n",
       "0  2018-08-01T01:01:15.000+0000  16.25  a623070bfead4541a6b0fff8a09e706c   \n",
       "1  2018-08-01T01:13:45.000+0000  14.19  13270a2a902145da9db4c951e04b51b9   \n",
       "2  2018-08-01T01:26:15.000+0000   6.42  feb79e7ecd7048a5a36ec889d1a94270   \n",
       "3  2018-08-01T01:38:45.000+0000  40.90  2698170da3704fd981b15e64a006079e   \n",
       "4  2018-08-01T01:51:15.000+0000   3.25  329adf79878c4cf0aeb4188b4691c266   \n",
       "\n",
       "     country     customer_id merchant_long_lat movement  \n",
       "0  Australia  CUS-2487424745     153.38 -27.99    debit  \n",
       "1  Australia  CUS-2487424745     151.21 -33.87    debit  \n",
       "2  Australia  CUS-2142601169     151.21 -33.87    debit  \n",
       "3  Australia  CUS-1614226872     153.05 -26.68    debit  \n",
       "4  Australia  CUS-2487424745     153.44 -28.06    debit  \n",
       "\n",
       "[5 rows x 23 columns]"
      ]
     },
     "execution_count": 3,
     "metadata": {},
     "output_type": "execute_result"
    }
   ],
   "source": [
    "Anz = pd.read_excel(\"ANZ synthesised transaction dataset.xlsx\")\n",
    "Anz.head()"
   ]
  },
  {
   "cell_type": "code",
   "execution_count": 4,
   "metadata": {},
   "outputs": [
    {
     "data": {
      "text/plain": [
       "Index(['status', 'card_present_flag', 'bpay_biller_code', 'account',\n",
       "       'currency', 'long_lat', 'txn_description', 'merchant_id',\n",
       "       'merchant_code', 'first_name', 'balance', 'date', 'gender', 'age',\n",
       "       'merchant_suburb', 'merchant_state', 'extraction', 'amount',\n",
       "       'transaction_id', 'country', 'customer_id', 'merchant_long_lat',\n",
       "       'movement'],\n",
       "      dtype='object')"
      ]
     },
     "execution_count": 4,
     "metadata": {},
     "output_type": "execute_result"
    }
   ],
   "source": [
    "Anz.columns"
   ]
  },
  {
   "cell_type": "markdown",
   "metadata": {},
   "source": [
    "### Modifying data to obtain salaries for each customer"
   ]
  },
  {
   "cell_type": "code",
   "execution_count": 5,
   "metadata": {
    "scrolled": true
   },
   "outputs": [
    {
     "data": {
      "text/html": [
       "<div>\n",
       "<style scoped>\n",
       "    .dataframe tbody tr th:only-of-type {\n",
       "        vertical-align: middle;\n",
       "    }\n",
       "\n",
       "    .dataframe tbody tr th {\n",
       "        vertical-align: top;\n",
       "    }\n",
       "\n",
       "    .dataframe thead th {\n",
       "        text-align: right;\n",
       "    }\n",
       "</style>\n",
       "<table border=\"1\" class=\"dataframe\">\n",
       "  <thead>\n",
       "    <tr style=\"text-align: right;\">\n",
       "      <th></th>\n",
       "      <th>card_present_flag</th>\n",
       "      <th>merchant_code</th>\n",
       "      <th>balance</th>\n",
       "      <th>age</th>\n",
       "      <th>amount</th>\n",
       "    </tr>\n",
       "    <tr>\n",
       "      <th>customer_id</th>\n",
       "      <th></th>\n",
       "      <th></th>\n",
       "      <th></th>\n",
       "      <th></th>\n",
       "      <th></th>\n",
       "    </tr>\n",
       "  </thead>\n",
       "  <tbody>\n",
       "    <tr>\n",
       "      <th>CUS-1005756958</th>\n",
       "      <td>NaN</td>\n",
       "      <td>0.0</td>\n",
       "      <td>4718.665385</td>\n",
       "      <td>53</td>\n",
       "      <td>970.47</td>\n",
       "    </tr>\n",
       "    <tr>\n",
       "      <th>CUS-1117979751</th>\n",
       "      <td>NaN</td>\n",
       "      <td>0.0</td>\n",
       "      <td>11957.202857</td>\n",
       "      <td>21</td>\n",
       "      <td>3578.65</td>\n",
       "    </tr>\n",
       "    <tr>\n",
       "      <th>CUS-1140341822</th>\n",
       "      <td>NaN</td>\n",
       "      <td>0.0</td>\n",
       "      <td>5841.720000</td>\n",
       "      <td>28</td>\n",
       "      <td>1916.51</td>\n",
       "    </tr>\n",
       "    <tr>\n",
       "      <th>CUS-1147642491</th>\n",
       "      <td>NaN</td>\n",
       "      <td>0.0</td>\n",
       "      <td>8813.467692</td>\n",
       "      <td>34</td>\n",
       "      <td>1711.39</td>\n",
       "    </tr>\n",
       "    <tr>\n",
       "      <th>CUS-1196156254</th>\n",
       "      <td>NaN</td>\n",
       "      <td>0.0</td>\n",
       "      <td>23845.717143</td>\n",
       "      <td>34</td>\n",
       "      <td>3903.73</td>\n",
       "    </tr>\n",
       "  </tbody>\n",
       "</table>\n",
       "</div>"
      ],
      "text/plain": [
       "                card_present_flag  merchant_code       balance  age   amount\n",
       "customer_id                                                                 \n",
       "CUS-1005756958                NaN            0.0   4718.665385   53   970.47\n",
       "CUS-1117979751                NaN            0.0  11957.202857   21  3578.65\n",
       "CUS-1140341822                NaN            0.0   5841.720000   28  1916.51\n",
       "CUS-1147642491                NaN            0.0   8813.467692   34  1711.39\n",
       "CUS-1196156254                NaN            0.0  23845.717143   34  3903.73"
      ]
     },
     "execution_count": 5,
     "metadata": {},
     "output_type": "execute_result"
    }
   ],
   "source": [
    "Anz_salaries = Anz[Anz[\"txn_description\"]==\"PAY/SALARY\"].groupby(\"customer_id\").mean()\n",
    "Anz_salaries.head()"
   ]
  },
  {
   "cell_type": "code",
   "execution_count": 6,
   "metadata": {},
   "outputs": [],
   "source": [
    "salaries = []\n",
    "\n",
    "for customer_id in Anz[\"customer_id\"]:\n",
    "    salaries.append(int(Anz_salaries.loc[customer_id][\"amount\"]))\n",
    "    \n",
    "Anz[\"annual_salary\"] = salaries"
   ]
  },
  {
   "cell_type": "code",
   "execution_count": 7,
   "metadata": {},
   "outputs": [
    {
     "data": {
      "text/html": [
       "<div>\n",
       "<style scoped>\n",
       "    .dataframe tbody tr th:only-of-type {\n",
       "        vertical-align: middle;\n",
       "    }\n",
       "\n",
       "    .dataframe tbody tr th {\n",
       "        vertical-align: top;\n",
       "    }\n",
       "\n",
       "    .dataframe thead th {\n",
       "        text-align: right;\n",
       "    }\n",
       "</style>\n",
       "<table border=\"1\" class=\"dataframe\">\n",
       "  <thead>\n",
       "    <tr style=\"text-align: right;\">\n",
       "      <th></th>\n",
       "      <th>card_present_flag</th>\n",
       "      <th>merchant_code</th>\n",
       "      <th>balance</th>\n",
       "      <th>age</th>\n",
       "      <th>amount</th>\n",
       "      <th>annual_salary</th>\n",
       "    </tr>\n",
       "    <tr>\n",
       "      <th>customer_id</th>\n",
       "      <th></th>\n",
       "      <th></th>\n",
       "      <th></th>\n",
       "      <th></th>\n",
       "      <th></th>\n",
       "      <th></th>\n",
       "    </tr>\n",
       "  </thead>\n",
       "  <tbody>\n",
       "    <tr>\n",
       "      <th>CUS-1005756958</th>\n",
       "      <td>0.812500</td>\n",
       "      <td>0.0</td>\n",
       "      <td>2275.852055</td>\n",
       "      <td>53</td>\n",
       "      <td>222.862603</td>\n",
       "      <td>970</td>\n",
       "    </tr>\n",
       "    <tr>\n",
       "      <th>CUS-1117979751</th>\n",
       "      <td>0.826923</td>\n",
       "      <td>0.0</td>\n",
       "      <td>9829.929000</td>\n",
       "      <td>21</td>\n",
       "      <td>339.843700</td>\n",
       "      <td>3578</td>\n",
       "    </tr>\n",
       "    <tr>\n",
       "      <th>CUS-1140341822</th>\n",
       "      <td>0.815385</td>\n",
       "      <td>0.0</td>\n",
       "      <td>5699.212250</td>\n",
       "      <td>28</td>\n",
       "      <td>212.632500</td>\n",
       "      <td>1916</td>\n",
       "    </tr>\n",
       "    <tr>\n",
       "      <th>CUS-1147642491</th>\n",
       "      <td>0.750000</td>\n",
       "      <td>0.0</td>\n",
       "      <td>9032.841186</td>\n",
       "      <td>34</td>\n",
       "      <td>245.600169</td>\n",
       "      <td>1711</td>\n",
       "    </tr>\n",
       "    <tr>\n",
       "      <th>CUS-1196156254</th>\n",
       "      <td>0.785276</td>\n",
       "      <td>0.0</td>\n",
       "      <td>22272.433755</td>\n",
       "      <td>34</td>\n",
       "      <td>147.145796</td>\n",
       "      <td>3903</td>\n",
       "    </tr>\n",
       "  </tbody>\n",
       "</table>\n",
       "</div>"
      ],
      "text/plain": [
       "                card_present_flag  merchant_code       balance  age  \\\n",
       "customer_id                                                           \n",
       "CUS-1005756958           0.812500            0.0   2275.852055   53   \n",
       "CUS-1117979751           0.826923            0.0   9829.929000   21   \n",
       "CUS-1140341822           0.815385            0.0   5699.212250   28   \n",
       "CUS-1147642491           0.750000            0.0   9032.841186   34   \n",
       "CUS-1196156254           0.785276            0.0  22272.433755   34   \n",
       "\n",
       "                    amount  annual_salary  \n",
       "customer_id                                \n",
       "CUS-1005756958  222.862603            970  \n",
       "CUS-1117979751  339.843700           3578  \n",
       "CUS-1140341822  212.632500           1916  \n",
       "CUS-1147642491  245.600169           1711  \n",
       "CUS-1196156254  147.145796           3903  "
      ]
     },
     "execution_count": 7,
     "metadata": {},
     "output_type": "execute_result"
    }
   ],
   "source": [
    "Anz_cus = Anz.groupby(\"customer_id\").mean()\n",
    "Anz_cus.head()"
   ]
  },
  {
   "cell_type": "markdown",
   "metadata": {},
   "source": [
    "# Predictive Analytics"
   ]
  },
  {
   "cell_type": "markdown",
   "metadata": {},
   "source": [
    "### Linear Regression"
   ]
  },
  {
   "cell_type": "code",
   "execution_count": 9,
   "metadata": {},
   "outputs": [],
   "source": [
    "N_train = int(len(Anz_cus)*0.8)\n",
    "X_train = Anz_cus.drop(\"annual_salary\", axis=1).iloc[:N_train]\n",
    "Y_train = Anz_cus[\"annual_salary\"].iloc[:N_train]\n",
    "X_test = Anz_cus.drop(\"annual_salary\", axis=1).iloc[N_train:]\n",
    "Y_test = Anz_cus[\"annual_salary\"].iloc[N_train:]"
   ]
  },
  {
   "cell_type": "code",
   "execution_count": 10,
   "metadata": {},
   "outputs": [],
   "source": [
    "linear_reg = LinearRegression()"
   ]
  },
  {
   "cell_type": "code",
   "execution_count": 11,
   "metadata": {},
   "outputs": [
    {
     "data": {
      "text/plain": [
       "0.23295376366257825"
      ]
     },
     "execution_count": 11,
     "metadata": {},
     "output_type": "execute_result"
    }
   ],
   "source": [
    "linear_reg.fit(X_train, Y_train)\n",
    "linear_reg.score(X_train, Y_train)"
   ]
  },
  {
   "cell_type": "code",
   "execution_count": 12,
   "metadata": {},
   "outputs": [
    {
     "data": {
      "text/plain": [
       "array([1993.98473311, 2867.39066481, 1944.95959591, 1806.85984885,\n",
       "       2226.35045442, 2075.34697175, 1813.02987337, 5388.67435983,\n",
       "       1902.35351608, 2191.90445145, 1713.48134178, 2854.40519949,\n",
       "       2094.77781158, 3815.34342881, 2249.92922822, 1768.80816189,\n",
       "       2095.02988288, 1515.18425875, 1782.72752537, 2481.2898546 ])"
      ]
     },
     "execution_count": 12,
     "metadata": {},
     "output_type": "execute_result"
    }
   ],
   "source": [
    "linear_reg.predict(X_test)"
   ]
  },
  {
   "cell_type": "code",
   "execution_count": 13,
   "metadata": {},
   "outputs": [
    {
     "data": {
      "text/plain": [
       "-0.31694234980747327"
      ]
     },
     "execution_count": 13,
     "metadata": {},
     "output_type": "execute_result"
    }
   ],
   "source": [
    "linear_reg.score(X_test, Y_test)"
   ]
  },
  {
   "cell_type": "markdown",
   "metadata": {},
   "source": [
    "### Decision Tree - Classification and Regression"
   ]
  },
  {
   "cell_type": "code",
   "execution_count": 14,
   "metadata": {},
   "outputs": [],
   "source": [
    "Anz_cat = Anz[[\"txn_description\", \"gender\", \"age\", \"merchant_state\", \"movement\"]]"
   ]
  },
  {
   "cell_type": "code",
   "execution_count": 15,
   "metadata": {},
   "outputs": [
    {
     "data": {
      "text/html": [
       "<div>\n",
       "<style scoped>\n",
       "    .dataframe tbody tr th:only-of-type {\n",
       "        vertical-align: middle;\n",
       "    }\n",
       "\n",
       "    .dataframe tbody tr th {\n",
       "        vertical-align: top;\n",
       "    }\n",
       "\n",
       "    .dataframe thead th {\n",
       "        text-align: right;\n",
       "    }\n",
       "</style>\n",
       "<table border=\"1\" class=\"dataframe\">\n",
       "  <thead>\n",
       "    <tr style=\"text-align: right;\">\n",
       "      <th></th>\n",
       "      <th>age</th>\n",
       "      <th>txn_description_INTER BANK</th>\n",
       "      <th>txn_description_PAY/SALARY</th>\n",
       "      <th>txn_description_PAYMENT</th>\n",
       "      <th>txn_description_PHONE BANK</th>\n",
       "      <th>txn_description_POS</th>\n",
       "      <th>txn_description_SALES-POS</th>\n",
       "      <th>gender_F</th>\n",
       "      <th>gender_M</th>\n",
       "      <th>merchant_state_ACT</th>\n",
       "      <th>merchant_state_NSW</th>\n",
       "      <th>merchant_state_NT</th>\n",
       "      <th>merchant_state_QLD</th>\n",
       "      <th>merchant_state_SA</th>\n",
       "      <th>merchant_state_TAS</th>\n",
       "      <th>merchant_state_VIC</th>\n",
       "      <th>merchant_state_WA</th>\n",
       "      <th>movement_credit</th>\n",
       "      <th>movement_debit</th>\n",
       "    </tr>\n",
       "  </thead>\n",
       "  <tbody>\n",
       "    <tr>\n",
       "      <th>0</th>\n",
       "      <td>26</td>\n",
       "      <td>0</td>\n",
       "      <td>0</td>\n",
       "      <td>0</td>\n",
       "      <td>0</td>\n",
       "      <td>1</td>\n",
       "      <td>0</td>\n",
       "      <td>1</td>\n",
       "      <td>0</td>\n",
       "      <td>0</td>\n",
       "      <td>0</td>\n",
       "      <td>0</td>\n",
       "      <td>1</td>\n",
       "      <td>0</td>\n",
       "      <td>0</td>\n",
       "      <td>0</td>\n",
       "      <td>0</td>\n",
       "      <td>0</td>\n",
       "      <td>1</td>\n",
       "    </tr>\n",
       "    <tr>\n",
       "      <th>1</th>\n",
       "      <td>26</td>\n",
       "      <td>0</td>\n",
       "      <td>0</td>\n",
       "      <td>0</td>\n",
       "      <td>0</td>\n",
       "      <td>0</td>\n",
       "      <td>1</td>\n",
       "      <td>1</td>\n",
       "      <td>0</td>\n",
       "      <td>0</td>\n",
       "      <td>1</td>\n",
       "      <td>0</td>\n",
       "      <td>0</td>\n",
       "      <td>0</td>\n",
       "      <td>0</td>\n",
       "      <td>0</td>\n",
       "      <td>0</td>\n",
       "      <td>0</td>\n",
       "      <td>1</td>\n",
       "    </tr>\n",
       "    <tr>\n",
       "      <th>2</th>\n",
       "      <td>38</td>\n",
       "      <td>0</td>\n",
       "      <td>0</td>\n",
       "      <td>0</td>\n",
       "      <td>0</td>\n",
       "      <td>1</td>\n",
       "      <td>0</td>\n",
       "      <td>0</td>\n",
       "      <td>1</td>\n",
       "      <td>0</td>\n",
       "      <td>1</td>\n",
       "      <td>0</td>\n",
       "      <td>0</td>\n",
       "      <td>0</td>\n",
       "      <td>0</td>\n",
       "      <td>0</td>\n",
       "      <td>0</td>\n",
       "      <td>0</td>\n",
       "      <td>1</td>\n",
       "    </tr>\n",
       "    <tr>\n",
       "      <th>3</th>\n",
       "      <td>40</td>\n",
       "      <td>0</td>\n",
       "      <td>0</td>\n",
       "      <td>0</td>\n",
       "      <td>0</td>\n",
       "      <td>0</td>\n",
       "      <td>1</td>\n",
       "      <td>1</td>\n",
       "      <td>0</td>\n",
       "      <td>0</td>\n",
       "      <td>0</td>\n",
       "      <td>0</td>\n",
       "      <td>1</td>\n",
       "      <td>0</td>\n",
       "      <td>0</td>\n",
       "      <td>0</td>\n",
       "      <td>0</td>\n",
       "      <td>0</td>\n",
       "      <td>1</td>\n",
       "    </tr>\n",
       "    <tr>\n",
       "      <th>4</th>\n",
       "      <td>26</td>\n",
       "      <td>0</td>\n",
       "      <td>0</td>\n",
       "      <td>0</td>\n",
       "      <td>0</td>\n",
       "      <td>0</td>\n",
       "      <td>1</td>\n",
       "      <td>1</td>\n",
       "      <td>0</td>\n",
       "      <td>0</td>\n",
       "      <td>0</td>\n",
       "      <td>0</td>\n",
       "      <td>1</td>\n",
       "      <td>0</td>\n",
       "      <td>0</td>\n",
       "      <td>0</td>\n",
       "      <td>0</td>\n",
       "      <td>0</td>\n",
       "      <td>1</td>\n",
       "    </tr>\n",
       "  </tbody>\n",
       "</table>\n",
       "</div>"
      ],
      "text/plain": [
       "   age  txn_description_INTER BANK  txn_description_PAY/SALARY  \\\n",
       "0   26                           0                           0   \n",
       "1   26                           0                           0   \n",
       "2   38                           0                           0   \n",
       "3   40                           0                           0   \n",
       "4   26                           0                           0   \n",
       "\n",
       "   txn_description_PAYMENT  txn_description_PHONE BANK  txn_description_POS  \\\n",
       "0                        0                           0                    1   \n",
       "1                        0                           0                    0   \n",
       "2                        0                           0                    1   \n",
       "3                        0                           0                    0   \n",
       "4                        0                           0                    0   \n",
       "\n",
       "   txn_description_SALES-POS  gender_F  gender_M  merchant_state_ACT  \\\n",
       "0                          0         1         0                   0   \n",
       "1                          1         1         0                   0   \n",
       "2                          0         0         1                   0   \n",
       "3                          1         1         0                   0   \n",
       "4                          1         1         0                   0   \n",
       "\n",
       "   merchant_state_NSW  merchant_state_NT  merchant_state_QLD  \\\n",
       "0                   0                  0                   1   \n",
       "1                   1                  0                   0   \n",
       "2                   1                  0                   0   \n",
       "3                   0                  0                   1   \n",
       "4                   0                  0                   1   \n",
       "\n",
       "   merchant_state_SA  merchant_state_TAS  merchant_state_VIC  \\\n",
       "0                  0                   0                   0   \n",
       "1                  0                   0                   0   \n",
       "2                  0                   0                   0   \n",
       "3                  0                   0                   0   \n",
       "4                  0                   0                   0   \n",
       "\n",
       "   merchant_state_WA  movement_credit  movement_debit  \n",
       "0                  0                0               1  \n",
       "1                  0                0               1  \n",
       "2                  0                0               1  \n",
       "3                  0                0               1  \n",
       "4                  0                0               1  "
      ]
     },
     "execution_count": 15,
     "metadata": {},
     "output_type": "execute_result"
    }
   ],
   "source": [
    "pd.get_dummies(Anz_cat).head()"
   ]
  },
  {
   "cell_type": "code",
   "execution_count": 17,
   "metadata": {},
   "outputs": [],
   "source": [
    "N_train = int(len(Anz)*0.8)\n",
    "X_train = pd.get_dummies(Anz_cat).iloc[:N_train]\n",
    "Y_train = Anz[\"annual_salary\"].iloc[:N_train]\n",
    "X_test = pd.get_dummies(Anz_cat).iloc[N_train:]\n",
    "Y_test = Anz[\"annual_salary\"].iloc[N_train:]"
   ]
  },
  {
   "cell_type": "markdown",
   "metadata": {},
   "source": [
    "#### Classification"
   ]
  },
  {
   "cell_type": "code",
   "execution_count": 18,
   "metadata": {},
   "outputs": [],
   "source": [
    "decision_tree_class = DecisionTreeClassifier()"
   ]
  },
  {
   "cell_type": "code",
   "execution_count": 19,
   "metadata": {},
   "outputs": [
    {
     "data": {
      "text/plain": [
       "0.7882499481004774"
      ]
     },
     "execution_count": 19,
     "metadata": {},
     "output_type": "execute_result"
    }
   ],
   "source": [
    "decision_tree_class.fit(X_train, Y_train)\n",
    "decision_tree_class.score(X_train, Y_train)"
   ]
  },
  {
   "cell_type": "code",
   "execution_count": 20,
   "metadata": {},
   "outputs": [
    {
     "data": {
      "text/plain": [
       "array([1013, 1043, 4132, ..., 4054, 1043,  996], dtype=int64)"
      ]
     },
     "execution_count": 20,
     "metadata": {},
     "output_type": "execute_result"
    }
   ],
   "source": [
    "decision_tree_class.predict(X_test)"
   ]
  },
  {
   "cell_type": "code",
   "execution_count": 21,
   "metadata": {},
   "outputs": [
    {
     "data": {
      "text/plain": [
       "0.755085097550851"
      ]
     },
     "execution_count": 21,
     "metadata": {},
     "output_type": "execute_result"
    }
   ],
   "source": [
    "decision_tree_class.score(X_test, Y_test)"
   ]
  },
  {
   "cell_type": "markdown",
   "metadata": {},
   "source": [
    "#### Regression"
   ]
  },
  {
   "cell_type": "code",
   "execution_count": 22,
   "metadata": {},
   "outputs": [],
   "source": [
    "decision_tree_reg = DecisionTreeRegressor()"
   ]
  },
  {
   "cell_type": "code",
   "execution_count": 23,
   "metadata": {},
   "outputs": [
    {
     "data": {
      "text/plain": [
       "0.7468978726536879"
      ]
     },
     "execution_count": 23,
     "metadata": {},
     "output_type": "execute_result"
    }
   ],
   "source": [
    "decision_tree_reg.fit(X_train, Y_train)\n",
    "decision_tree_reg.score(X_train, Y_train)"
   ]
  },
  {
   "cell_type": "code",
   "execution_count": 24,
   "metadata": {},
   "outputs": [
    {
     "data": {
      "text/plain": [
       "array([1226.42857143, 1043.        , 4132.        , ..., 3345.04761905,\n",
       "       1043.        , 1626.        ])"
      ]
     },
     "execution_count": 24,
     "metadata": {},
     "output_type": "execute_result"
    }
   ],
   "source": [
    "decision_tree_reg.predict(X_test)"
   ]
  },
  {
   "cell_type": "code",
   "execution_count": 25,
   "metadata": {},
   "outputs": [
    {
     "data": {
      "text/plain": [
       "0.6822816148137859"
      ]
     },
     "execution_count": 25,
     "metadata": {},
     "output_type": "execute_result"
    }
   ],
   "source": [
    "decision_tree_reg.score(X_test, Y_test)"
   ]
  }
 ],
 "metadata": {
  "kernelspec": {
   "display_name": "Python 3",
   "language": "python",
   "name": "python3"
  },
  "language_info": {
   "codemirror_mode": {
    "name": "ipython",
    "version": 3
   },
   "file_extension": ".py",
   "mimetype": "text/x-python",
   "name": "python",
   "nbconvert_exporter": "python",
   "pygments_lexer": "ipython3",
   "version": "3.7.3"
  }
 },
 "nbformat": 4,
 "nbformat_minor": 2
}
